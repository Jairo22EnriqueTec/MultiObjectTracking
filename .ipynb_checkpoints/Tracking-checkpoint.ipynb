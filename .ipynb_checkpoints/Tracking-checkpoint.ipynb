{
 "cells": [
  {
   "cell_type": "code",
   "execution_count": 1,
   "metadata": {
    "ExecuteTime": {
     "end_time": "2022-10-28T11:49:21.072307Z",
     "start_time": "2022-10-28T11:49:21.005300Z"
    }
   },
   "outputs": [],
   "source": [
    "import cv2\n",
    "import numpy as np\n",
    "from object_detection import ObjectDetection\n",
    "from objects import Object"
   ]
  },
  {
   "cell_type": "code",
   "execution_count": 2,
   "metadata": {
    "ExecuteTime": {
     "end_time": "2022-10-28T11:49:36.036627Z",
     "start_time": "2022-10-28T11:49:21.661413Z"
    }
   },
   "outputs": [
    {
     "name": "stderr",
     "output_type": "stream",
     "text": [
      "Using cache found in C:\\Users\\Jairo Enrique/.cache\\torch\\hub\\ultralytics_yolov5_master\n",
      "YOLOv5  2022-10-28 Python-3.8.5 torch-1.12.1+cpu CPU\n",
      "\n",
      "Fusing layers... \n",
      "YOLOv5n summary: 213 layers, 1867405 parameters, 0 gradients\n",
      "Adding AutoShape... \n"
     ]
    }
   ],
   "source": [
    "import torch\n",
    "\n",
    "# Model\n",
    "model = torch.hub.load('ultralytics/yolov5', 'yolov5n', pretrained=True)"
   ]
  },
  {
   "cell_type": "code",
   "execution_count": 3,
   "metadata": {
    "ExecuteTime": {
     "end_time": "2022-10-28T11:49:42.081714Z",
     "start_time": "2022-10-28T11:49:42.059683Z"
    }
   },
   "outputs": [],
   "source": [
    "def YOLOv5(frame):\n",
    "    try:\n",
    "        results = model(frame)\n",
    "        return results.pandas().xyxy[0]\n",
    "    except:\n",
    "        pass"
   ]
  },
  {
   "cell_type": "code",
   "execution_count": 19,
   "metadata": {
    "ExecuteTime": {
     "end_time": "2022-10-28T11:04:29.130640Z",
     "start_time": "2022-10-28T11:04:28.247199Z"
    }
   },
   "outputs": [
    {
     "name": "stdout",
     "output_type": "stream",
     "text": [
      "Loading Object Detection\n",
      "Running opencv dnn with YOLOv4\n"
     ]
    }
   ],
   "source": [
    "YOLOS = [ [\"dnn_model/yolo-fastest-1.1.weights\", \"dnn_model/yolo-fastest-1.1.cfg\", \"dnn_model/coco.names.txt\"],\n",
    "        [\"dnn_model/yolo-fastest-1.1-xl.weights\", \"dnn_model/yolo-fastest-1.1-xl.cfg\", \"dnn_model/coco.names.txt\"],\n",
    "         [\"dnn_model/yolov3.weights\", \"dnn_model/yolov3.cfg\", \"dnn_model/coco.names.txt\"],\n",
    "        [\"dnn_model/yolov4.weights\", \"dnn_model/yolov4.cfg\", \"dnn_model/classes.txt\"]]\n",
    "\n",
    "i = 3\n",
    "YOLO = ObjectDetection(weights_path = YOLOS[i][0], \n",
    "                       cfg_path = YOLOS[i][1],\n",
    "                      class_path = YOLOS[i][2])"
   ]
  },
  {
   "cell_type": "code",
   "execution_count": 22,
   "metadata": {
    "ExecuteTime": {
     "end_time": "2022-10-28T12:25:04.083973Z",
     "start_time": "2022-10-28T12:25:04.029589Z"
    }
   },
   "outputs": [],
   "source": [
    "def loadClassesNames():\n",
    "        with open('dnn_model/classes.txt') as f:\n",
    "            Objects = [line.replace('\\n','') for line in f.readlines()]\n",
    "        f.close()\n",
    "        return Objects\n",
    "    \n",
    "class Object():\n",
    "    All = {}\n",
    "    LastID = 0\n",
    "    Threshold = 50\n",
    "    MaxFramesWithOutNoMove = 200\n",
    "    TemporalStep = 1\n",
    "    dt = 1\n",
    "    WhiteList = [\"person\", \"car\", \"truck\"]\n",
    "    ClassesNames = loadClassesNames()\n",
    "    \n",
    "    @classmethod\n",
    "    def create(cls, name, PosIni, rectangle):\n",
    "        \"\"\"\n",
    "        if ID in cls.All.keys():\n",
    "            raise IndexError(f\"No puede existir dos ID's iguales ID: {ID}\")\n",
    "        \n",
    "        if len(list(cls.All.keys())) >1 and ID != np.max(list(cls.All.keys())) + 1:\n",
    "            txtErr = f\"Los ID deben de ser consecutivos ID: {ID}\"\n",
    "            txtErr += f\"\\nSiguiente ID: {np.max(list(cls.All.keys())) + 1}\"\n",
    "            raise IndexError(txtErr)\n",
    "        \"\"\"\n",
    "        object_ = Object(name, PosIni, rectangle)\n",
    "        cls.All[Object.LastID] = object_\n",
    "        return object_\n",
    "    \n",
    "    @classmethod\n",
    "    def NewFrame(cls, Coords, Classes, Rectangles):\n",
    "        \n",
    "        for coor, class_, rectangle in zip(Coords, Classes, Rectangles):\n",
    "            \n",
    "            min_dis = 100\n",
    "            min_dis_ID = None\n",
    "            for ID in Object.All.keys():\n",
    "                d = Object.All[ID].getDistance(coor)\n",
    "                if d < Object.Threshold and d < min_dis and Object.All[ID].Life == True:\n",
    "                    min_dis = d\n",
    "                    min_dis_ID = ID\n",
    "            # Si está más cerca de un objeto, se actualiza su posición\n",
    "            if min_dis_ID != None and Object.areEqual(Object.All[min_dis_ID].name, Object.ClassesNames[class_]):\n",
    "                Object.All[min_dis_ID].ActPosition(coor)\n",
    "                Object.All[min_dis_ID].Rectangle = rectangle\n",
    "                Object.All[min_dis_ID].LastTemporalStep = Object.TemporalStep\n",
    "            #Si no, es un objeto nuevo\n",
    "            else:\n",
    "                Object.create(class_, coor, rectangle)\n",
    "                Object.All[Object.LastID].LastTemporalStep = Object.TemporalStep\n",
    "        Object.checkDeath()\n",
    "        \n",
    "    \n",
    "    @classmethod\n",
    "    def areEqual(cls, Name1, Name2):\n",
    "        D = {\"car\": \"car\", \"truck\": \"car\",  \"person\": \"person\"}\n",
    "        return D[Name1] == D[Name2]\n",
    "        \n",
    "    @classmethod\n",
    "    def ShowAll(cls, onlyALives = False):\n",
    "        for k in Object.All.keys():\n",
    "            if onlyALives:\n",
    "                if Object.All[k].Life == False:\n",
    "                    continue\n",
    "                    \n",
    "            print(\" ================================== \")\n",
    "            print(f\"ID: {Object.All[k].ID}\")\n",
    "            print(f\"Tipo: {Object.All[k].name}\")\n",
    "            print(f\"Path: {Object.All[k].path}\")\n",
    "            print(f\"Pos: {Object.All[k].getPosition()}\")\n",
    "            print(\" ================================== \")\n",
    "            print()\n",
    "            \n",
    "    @classmethod\n",
    "    def checkDeath(cls):\n",
    "        for ID in Object.All.keys():\n",
    "            Diff = Object.TemporalStep - Object.All[ID].LastTemporalStep\n",
    "            if Diff > 20:\n",
    "                Object.All[ID].Life = False\n",
    "                print(f\"Murió ID = {ID}\")\n",
    "                \n",
    "    @classmethod\n",
    "    def PutID(cls, frame):\n",
    "        onlyALives = True\n",
    "        for k in Object.All.keys():\n",
    "            if onlyALives and Object.All[k].Life == False:\n",
    "                continue\n",
    "            Diff = Object.TemporalStep - Object.All[k].LastTemporalStep\n",
    "            #if Diff > 5:\n",
    "            #    continue\n",
    "            \n",
    "            x, y = Object.All[k].getPosition()\n",
    "            cv2.putText(frame, str(Object.All[k].ID), (x ,y-7), 0,1, (0,0,255), 2)\n",
    "            xmin, ymin, xmax, ymax = Object.All[k].Rectangle\n",
    "            cv2.rectangle(roi, (round(xmin), round(ymin)), (round(xmax), round(ymax)), (255,0,0), 2)\n",
    "        \n",
    "    @classmethod\n",
    "    def reset(cls):\n",
    "        cls.All = {}\n",
    "        cls.LastID = 0\n",
    "        cls.TemporalStep = 1\n",
    "    @classmethod\n",
    "    def step(cls):\n",
    "        Object.TemporalStep += 1\n",
    "        #TODO\n",
    "    \n",
    "    def __init__(self, name, PosIni, Rectangle):\n",
    "        self.name = Object.ClassesNames[name]\n",
    "        self.PosIni = PosIni\n",
    "        self.Life = True\n",
    "        self.LastTemporalStep = 1\n",
    "        self.ID = Object.LastID\n",
    "        self.path = [PosIni]\n",
    "        self.Rectangle = Rectangle\n",
    "        Object.LastID += 1\n",
    "        \n",
    "    def ActPosition(self, ActPos):\n",
    "        self.path.append(ActPos)\n",
    "    \n",
    "    def getPosition(self):\n",
    "        return self.path[-1]\n",
    "    \n",
    "    def checkMove(self):\n",
    "        \"\"\"\n",
    "        Si un objeto permanece inmovil por más de n frames,\n",
    "        se considera como muerto\n",
    "        \"\"\"\n",
    "        pass\n",
    "        #if len(self.path) > 10:\n",
    "            \n",
    "    \n",
    "    def getDistance(self, Pos):\n",
    "        return np.sqrt((Pos[0] - self.getPosition()[0])**2 + (Pos[1] - self.getPosition()[1])**2)\n",
    "\n"
   ]
  },
  {
   "cell_type": "code",
   "execution_count": null,
   "metadata": {},
   "outputs": [],
   "source": []
  },
  {
   "cell_type": "code",
   "execution_count": 24,
   "metadata": {
    "ExecuteTime": {
     "end_time": "2022-10-28T12:25:48.575361Z",
     "start_time": "2022-10-28T12:25:37.763324Z"
    }
   },
   "outputs": [
    {
     "name": "stdout",
     "output_type": "stream",
     "text": [
      "Murió ID = 1\n",
      "Murió ID = 1\n",
      "Murió ID = 1\n",
      "Murió ID = 1\n",
      "Murió ID = 1\n",
      "Murió ID = 1\n",
      "Murió ID = 1\n",
      "Murió ID = 1\n",
      "Murió ID = 1\n",
      "Murió ID = 2\n",
      "Murió ID = 4\n",
      "Murió ID = 1\n",
      "Murió ID = 2\n",
      "Murió ID = 4\n",
      "Murió ID = 1\n",
      "Murió ID = 2\n",
      "Murió ID = 4\n",
      "Murió ID = 1\n",
      "Murió ID = 2\n",
      "Murió ID = 4\n",
      "Murió ID = 1\n",
      "Murió ID = 2\n",
      "Murió ID = 4\n",
      "Murió ID = 1\n",
      "Murió ID = 2\n",
      "Murió ID = 4\n",
      "Murió ID = 1\n",
      "Murió ID = 2\n",
      "Murió ID = 4\n",
      "Murió ID = 1\n",
      "Murió ID = 2\n",
      "Murió ID = 4\n",
      "Murió ID = 1\n",
      "Murió ID = 2\n",
      "Murió ID = 4\n",
      "Murió ID = 1\n",
      "Murió ID = 2\n",
      "Murió ID = 4\n",
      "Murió ID = 1\n",
      "Murió ID = 2\n",
      "Murió ID = 4\n",
      "Murió ID = 1\n",
      "Murió ID = 2\n",
      "Murió ID = 4\n",
      "Murió ID = 1\n",
      "Murió ID = 2\n",
      "Murió ID = 4\n",
      "Murió ID = 6\n",
      "Murió ID = 1\n",
      "Murió ID = 2\n",
      "Murió ID = 4\n",
      "Murió ID = 6\n",
      "Murió ID = 1\n",
      "Murió ID = 2\n",
      "Murió ID = 4\n",
      "Murió ID = 6\n",
      "Murió ID = 1\n",
      "Murió ID = 2\n",
      "Murió ID = 4\n",
      "Murió ID = 6\n",
      "Murió ID = 1\n",
      "Murió ID = 2\n",
      "Murió ID = 4\n",
      "Murió ID = 5\n",
      "Murió ID = 6\n",
      "Murió ID = 1\n",
      "Murió ID = 2\n",
      "Murió ID = 4\n",
      "Murió ID = 5\n",
      "Murió ID = 6\n",
      "Murió ID = 1\n",
      "Murió ID = 2\n",
      "Murió ID = 4\n",
      "Murió ID = 5\n",
      "Murió ID = 6\n",
      "Murió ID = 1\n",
      "Murió ID = 2\n",
      "Murió ID = 4\n",
      "Murió ID = 5\n",
      "Murió ID = 6\n",
      "Murió ID = 1\n",
      "Murió ID = 2\n",
      "Murió ID = 4\n",
      "Murió ID = 5\n",
      "Murió ID = 6\n",
      "Murió ID = 1\n",
      "Murió ID = 2\n",
      "Murió ID = 4\n",
      "Murió ID = 5\n",
      "Murió ID = 6\n",
      "Murió ID = 1\n",
      "Murió ID = 2\n",
      "Murió ID = 4\n",
      "Murió ID = 5\n",
      "Murió ID = 6\n",
      "Murió ID = 1\n",
      "Murió ID = 2\n",
      "Murió ID = 4\n",
      "Murió ID = 5\n",
      "Murió ID = 6\n",
      "Murió ID = 1\n",
      "Murió ID = 2\n",
      "Murió ID = 4\n",
      "Murió ID = 5\n",
      "Murió ID = 6\n",
      "Murió ID = 1\n",
      "Murió ID = 2\n",
      "Murió ID = 4\n",
      "Murió ID = 5\n",
      "Murió ID = 6\n",
      "Murió ID = 1\n",
      "Murió ID = 2\n",
      "Murió ID = 4\n",
      "Murió ID = 5\n",
      "Murió ID = 6\n",
      "Murió ID = 1\n",
      "Murió ID = 2\n",
      "Murió ID = 4\n",
      "Murió ID = 5\n",
      "Murió ID = 6\n",
      "Murió ID = 1\n",
      "Murió ID = 2\n",
      "Murió ID = 4\n",
      "Murió ID = 5\n",
      "Murió ID = 6\n",
      "Murió ID = 7\n",
      "Murió ID = 1\n",
      "Murió ID = 2\n",
      "Murió ID = 4\n",
      "Murió ID = 5\n",
      "Murió ID = 6\n",
      "Murió ID = 7\n",
      "Murió ID = 1\n",
      "Murió ID = 2\n",
      "Murió ID = 4\n",
      "Murió ID = 5\n",
      "Murió ID = 6\n",
      "Murió ID = 7\n",
      "Murió ID = 1\n",
      "Murió ID = 2\n",
      "Murió ID = 4\n",
      "Murió ID = 5\n",
      "Murió ID = 6\n",
      "Murió ID = 7\n",
      "Murió ID = 8\n",
      "Murió ID = 1\n",
      "Murió ID = 2\n",
      "Murió ID = 4\n",
      "Murió ID = 5\n",
      "Murió ID = 6\n",
      "Murió ID = 7\n",
      "Murió ID = 8\n",
      "Murió ID = 1\n",
      "Murió ID = 2\n",
      "Murió ID = 4\n",
      "Murió ID = 5\n",
      "Murió ID = 6\n",
      "Murió ID = 7\n",
      "Murió ID = 8\n",
      "Murió ID = 1\n",
      "Murió ID = 2\n",
      "Murió ID = 4\n",
      "Murió ID = 5\n",
      "Murió ID = 6\n",
      "Murió ID = 7\n",
      "Murió ID = 8\n",
      "Murió ID = 1\n",
      "Murió ID = 2\n",
      "Murió ID = 4\n",
      "Murió ID = 5\n",
      "Murió ID = 6\n",
      "Murió ID = 7\n",
      "Murió ID = 8\n",
      "Murió ID = 1\n",
      "Murió ID = 2\n",
      "Murió ID = 3\n",
      "Murió ID = 4\n",
      "Murió ID = 5\n",
      "Murió ID = 6\n",
      "Murió ID = 7\n",
      "Murió ID = 8\n",
      "Murió ID = 1\n",
      "Murió ID = 2\n",
      "Murió ID = 3\n",
      "Murió ID = 4\n",
      "Murió ID = 5\n",
      "Murió ID = 6\n",
      "Murió ID = 7\n",
      "Murió ID = 8\n",
      "Murió ID = 1\n",
      "Murió ID = 2\n",
      "Murió ID = 3\n",
      "Murió ID = 4\n",
      "Murió ID = 5\n",
      "Murió ID = 6\n",
      "Murió ID = 7\n",
      "Murió ID = 8\n",
      "Murió ID = 1\n",
      "Murió ID = 2\n",
      "Murió ID = 3\n",
      "Murió ID = 4\n",
      "Murió ID = 5\n",
      "Murió ID = 6\n",
      "Murió ID = 7\n",
      "Murió ID = 8\n"
     ]
    }
   ],
   "source": [
    "cap = cv2.VideoCapture('videos/middle.mp4')\n",
    "nFrame = -1\n",
    "Object.reset()\n",
    "Object.dt = 10\n",
    "\n",
    "while True:\n",
    "    nFrame += 1\n",
    "    ret, frame = cap.read()\n",
    "    if not ret:\n",
    "        break\n",
    "    \n",
    "    if nFrame < 400:\n",
    "        continue\n",
    "    \n",
    "    key = cv2.waitKey(1)\n",
    "    roi = frame[600:, :]\n",
    "    Object.step()\n",
    "    #\"\"\"\n",
    "    \n",
    "    \"\"\"\n",
    "    (class_ids, scores, boxes) = YOLO.detect(roi)\n",
    "\n",
    "    for box, class_id in zip(boxes, class_ids):\n",
    "        if Object.ClassesNames[class_id] not in Object.WhiteList:\n",
    "            continue\n",
    "        (x, y, w, h) = box\n",
    "        cv2.rectangle(roi, (x,y), (x + w, y + h), (255,0,0),2)\n",
    "        cx = int((x + x + w)/2)\n",
    "        cy = int((y + y + h)/2)\n",
    "        cv2.circle(roi, (cx,cy), 5, (0,0,255), -1 )\n",
    "\n",
    "\n",
    "        Object.NewFrame([[cx,cy]], [class_id])\n",
    "    \"\"\"\n",
    "    if nFrame % Object.dt == 0:\n",
    "        Results = YOLOv5(roi)\n",
    "        for r in range(Results.shape[0]):\n",
    "            #print(Results.iloc[i,:])\n",
    "            xmin, ymin, xmax, ymax, _, class_id, name = [Results.iloc[r,i] for i in range(7)]\n",
    "            \"\"\"\n",
    "            xmin = Results.iloc[i,0]\n",
    "            ymin = Results.iloc[i,1]\n",
    "            xmax = Results.iloc[i,2]\n",
    "            ymax = Results.iloc[i,3]\n",
    "            class_id = Results.iloc[i, 5]\n",
    "            name = Results.iloc[i,6]\n",
    "            \"\"\"\n",
    "            if Object.ClassesNames[int(class_id)] not in Object.WhiteList:\n",
    "                continue\n",
    "            #cv2.rectangle(roi, (round(xmin), round(ymin)), (round(xmax), round(ymax)), (255,0,0), 2)\n",
    "            cx = int((xmax + xmin)/2)\n",
    "            cy = int((ymax + ymin)/2)\n",
    "            cv2.circle(roi, (cx,cy), 5, (0,0,255), -1 )\n",
    "\n",
    "            Object.NewFrame([[cx,cy]], [class_id], [[xmin, ymin, xmax, ymax]])\n",
    "    #if nFrame% 5 == 0:\n",
    "    #    Object.ShowAll(onlyALives = True)\n",
    "    #\"\"\"\n",
    "    Object.PutID(roi)\n",
    "    cv2.imshow(\"Frame\", frame)\n",
    "    cv2.imshow(\"Roi\", roi)\n",
    "    if key == 27:\n",
    "        break  \n",
    "        \n",
    "cap.release()\n",
    "cv2.destroyAllWindows()"
   ]
  },
  {
   "cell_type": "code",
   "execution_count": 56,
   "metadata": {
    "ExecuteTime": {
     "end_time": "2022-10-28T11:30:36.056548Z",
     "start_time": "2022-10-28T11:30:36.029331Z"
    }
   },
   "outputs": [
    {
     "data": {
      "text/plain": [
       "2"
      ]
     },
     "execution_count": 56,
     "metadata": {},
     "output_type": "execute_result"
    }
   ],
   "source": [
    "# Para una nueva versión, eliminarlos en lugar de matarlos en código\n",
    "# del Object.All[ID]\n",
    "# Pero antes revisar a donde se han ido\n",
    "# detección cada n frames\n",
    "xmin, ymin, xmax, ymax, _, class_id, name = [Results.iloc[0,i] for i in range(7)]\n",
    "class_id"
   ]
  },
  {
   "cell_type": "code",
   "execution_count": 59,
   "metadata": {
    "ExecuteTime": {
     "end_time": "2022-10-28T11:31:25.771436Z",
     "start_time": "2022-10-28T11:31:25.747939Z"
    }
   },
   "outputs": [
    {
     "name": "stdout",
     "output_type": "stream",
     "text": [
      "150.32098388671875 552.5122680664062 268.04498291015625 685.5360717773438 2 car\n"
     ]
    }
   ],
   "source": [
    "print(xmin, ymin, xmax, ymax, class_id, name)"
   ]
  },
  {
   "cell_type": "code",
   "execution_count": 61,
   "metadata": {
    "ExecuteTime": {
     "end_time": "2022-10-28T11:32:11.265382Z",
     "start_time": "2022-10-28T11:32:11.243504Z"
    }
   },
   "outputs": [
    {
     "data": {
      "text/plain": [
       "(150.32098388671875, 552.5122680664062)"
      ]
     },
     "execution_count": 61,
     "metadata": {},
     "output_type": "execute_result"
    }
   ],
   "source": [
    "(xmin, ymin)"
   ]
  },
  {
   "cell_type": "code",
   "execution_count": 62,
   "metadata": {
    "ExecuteTime": {
     "end_time": "2022-10-28T11:32:18.148731Z",
     "start_time": "2022-10-28T11:32:18.131881Z"
    }
   },
   "outputs": [
    {
     "data": {
      "text/plain": [
       "(268.04498291015625, 685.5360717773438)"
      ]
     },
     "execution_count": 62,
     "metadata": {},
     "output_type": "execute_result"
    }
   ],
   "source": [
    "#Extrapolar los resultados para simular que se sigue el objeto al dibujar la cajita cada posición"
   ]
  }
 ],
 "metadata": {
  "hide_input": false,
  "kernelspec": {
   "display_name": "Python 3 (ipykernel)",
   "language": "python",
   "name": "python3"
  },
  "language_info": {
   "codemirror_mode": {
    "name": "ipython",
    "version": 3
   },
   "file_extension": ".py",
   "mimetype": "text/x-python",
   "name": "python",
   "nbconvert_exporter": "python",
   "pygments_lexer": "ipython3",
   "version": "3.8.5"
  },
  "varInspector": {
   "cols": {
    "lenName": 16,
    "lenType": 16,
    "lenVar": 40
   },
   "kernels_config": {
    "python": {
     "delete_cmd_postfix": "",
     "delete_cmd_prefix": "del ",
     "library": "var_list.py",
     "varRefreshCmd": "print(var_dic_list())"
    },
    "r": {
     "delete_cmd_postfix": ") ",
     "delete_cmd_prefix": "rm(",
     "library": "var_list.r",
     "varRefreshCmd": "cat(var_dic_list()) "
    }
   },
   "types_to_exclude": [
    "module",
    "function",
    "builtin_function_or_method",
    "instance",
    "_Feature"
   ],
   "window_display": false
  }
 },
 "nbformat": 4,
 "nbformat_minor": 4
}
