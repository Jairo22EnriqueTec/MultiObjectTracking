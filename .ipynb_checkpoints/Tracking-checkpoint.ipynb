{
 "cells": [
  {
   "cell_type": "code",
   "execution_count": 13,
   "metadata": {
    "ExecuteTime": {
     "end_time": "2022-10-21T11:41:12.335197Z",
     "start_time": "2022-10-21T11:41:12.322110Z"
    }
   },
   "outputs": [],
   "source": [
    "import cv2\n",
    "import numpy as np\n",
    "from object_detection import ObjectDetection"
   ]
  },
  {
   "cell_type": "code",
   "execution_count": 14,
   "metadata": {
    "ExecuteTime": {
     "end_time": "2022-10-21T11:41:38.408814Z",
     "start_time": "2022-10-21T11:41:37.420502Z"
    }
   },
   "outputs": [
    {
     "name": "stdout",
     "output_type": "stream",
     "text": [
      "Loading Object Detection\n",
      "Running opencv dnn with YOLOv4\n"
     ]
    }
   ],
   "source": [
    "YOLO = ObjectDetection()"
   ]
  },
  {
   "cell_type": "code",
   "execution_count": 114,
   "metadata": {
    "ExecuteTime": {
     "end_time": "2022-10-21T12:24:06.790642Z",
     "start_time": "2022-10-21T12:23:59.974729Z"
    }
   },
   "outputs": [],
   "source": [
    "cap = cv2.VideoCapture('videos/short.mp4')\n",
    "while True:\n",
    "    ret, frame = cap.read()\n",
    "    if not ret:\n",
    "        break\n",
    "    \n",
    "    \n",
    "    key = cv2.waitKey(0)\n",
    "    \n",
    "    (class_ids, scores, boxes) = YOLO.detect(frame)\n",
    "    for box, class_id in zip(boxes, class_ids):\n",
    "        (x, y, w, h) = box\n",
    "        cv2.rectangle(frame, (x,y), (x + w, y + h), (255,0,0),2)\n",
    "        cx = int((x + x + w)/2)\n",
    "        cy = int((y + y + h)/2)\n",
    "        cv2.circle(frame, (cx,cy), 5, (0,0,255), -1 )\n",
    "    \n",
    "    cv2.imshow(\"Frame\", frame)\n",
    "    if key == 27:\n",
    "        break        \n",
    "        \n",
    "cap.release()\n",
    "cv2.destroyAllWindows()"
   ]
  },
  {
   "cell_type": "code",
   "execution_count": 203,
   "metadata": {
    "ExecuteTime": {
     "end_time": "2022-10-21T18:39:59.467239Z",
     "start_time": "2022-10-21T18:39:59.452238Z"
    }
   },
   "outputs": [],
   "source": [
    "class Object():\n",
    "    All = {}\n",
    "    LastID = 0\n",
    "    Threshold = 1\n",
    "    @classmethod\n",
    "    def create(cls, name, PosIni):\n",
    "        \"\"\"\n",
    "        if ID in cls.All.keys():\n",
    "            raise IndexError(f\"No puede existir dos ID's iguales ID: {ID}\")\n",
    "        \n",
    "        if len(list(cls.All.keys())) >1 and ID != np.max(list(cls.All.keys())) + 1:\n",
    "            txtErr = f\"Los ID deben de ser consecutivos ID: {ID}\"\n",
    "            txtErr += f\"\\nSiguiente ID: {np.max(list(cls.All.keys())) + 1}\"\n",
    "            raise IndexError(txtErr)\n",
    "        \"\"\"\n",
    "        object_ = Object(name, PosIni)\n",
    "        cls.All[Object.LastID] = object_\n",
    "        return object_\n",
    "    \n",
    "    @classmethod\n",
    "    def NewFrame(cls, Coords, Classes):\n",
    "        \n",
    "        for coor, class_ in zip(Coords, Classes):\n",
    "            min_dis = 100\n",
    "            min_dis_ID = None\n",
    "            for ID in Object.All.keys():\n",
    "                d = Object.All[ID].getDistance(coor)\n",
    "                if d < Object.Threshold and d < min_dis:\n",
    "                    min_dis = d\n",
    "                    min_dis_ID = ID\n",
    "        \n",
    "            # Si está más cerca de un objeto, se actualiza su posición\n",
    "            if min_dis_ID != None:\n",
    "                Object.All[min_dis_ID].ActPosition(coor)\n",
    "            #Si no, es un objeto nuevo\n",
    "            else:\n",
    "                Object.create(class_, coor)\n",
    "    @classmethod\n",
    "    def ShowAll(cls):\n",
    "        for k in Object.All.keys():\n",
    "            print(\" ================================== \")\n",
    "            print(f\"ID: {Object.All[k].ID}\")\n",
    "            print(f\"Tipo: {Object.All[k].name}\")\n",
    "            print(f\"Path: {Object.All[k].path}\")\n",
    "            print(f\"Pos: {Object.All[k].getPosition()}\")\n",
    "            print(\" ================================== \")\n",
    "            print()\n",
    "    \n",
    "    \n",
    "    def __init__(self, name, PosIni):\n",
    "        self.name = name\n",
    "        self.PosIni = PosIni\n",
    "        self.ID = Object.LastID\n",
    "        self.path = [PosIni]\n",
    "        Object.LastID += 1\n",
    "        \n",
    "    def ActPosition(self, ActPos):\n",
    "        self.path.append(ActPos)\n",
    "    \n",
    "    def getPosition(self):\n",
    "        return self.path[-1]\n",
    "    \n",
    "    def getDistance(self, Pos):\n",
    "        return np.sqrt((Pos[0] - self.getPosition()[0])**2 +\\\n",
    "                       (Pos[1] - self.getPosition()[1])**2)"
   ]
  },
  {
   "cell_type": "code",
   "execution_count": 208,
   "metadata": {
    "ExecuteTime": {
     "end_time": "2022-10-21T18:40:33.792419Z",
     "start_time": "2022-10-21T18:40:33.772955Z"
    }
   },
   "outputs": [],
   "source": [
    "Object.NewFrame([[6.3,2.3], [1.2,2.3], [4,5]], ['Carro', 'Carro', 'Persona'])"
   ]
  },
  {
   "cell_type": "code",
   "execution_count": 209,
   "metadata": {
    "ExecuteTime": {
     "end_time": "2022-10-21T18:40:34.370877Z",
     "start_time": "2022-10-21T18:40:34.350809Z"
    }
   },
   "outputs": [
    {
     "name": "stdout",
     "output_type": "stream",
     "text": [
      " ================================== \n",
      "ID: 0\n",
      "Tipo: Carro\n",
      "Path: [[6, 2], [6.2, 2.1], [6.3, 2.3]]\n",
      " ================================== \n",
      "\n",
      " ================================== \n",
      "ID: 1\n",
      "Tipo: Carro\n",
      "Path: [[1, 2], [1.2, 2.3]]\n",
      " ================================== \n",
      "\n",
      " ================================== \n",
      "ID: 2\n",
      "Tipo: Persona\n",
      "Path: [[4, 5]]\n",
      " ================================== \n",
      "\n"
     ]
    }
   ],
   "source": [
    "Object.ShowAll()"
   ]
  },
  {
   "cell_type": "code",
   "execution_count": null,
   "metadata": {},
   "outputs": [],
   "source": [
    "for k in Object.All.keys():\n",
    "    print(Object.All)"
   ]
  },
  {
   "cell_type": "code",
   "execution_count": null,
   "metadata": {},
   "outputs": [],
   "source": []
  },
  {
   "cell_type": "code",
   "execution_count": 134,
   "metadata": {
    "ExecuteTime": {
     "end_time": "2022-10-21T12:29:40.993815Z",
     "start_time": "2022-10-21T12:29:40.979804Z"
    }
   },
   "outputs": [
    {
     "data": {
      "text/plain": [
       "[(10, 10), (2, 8)]"
      ]
     },
     "execution_count": 134,
     "metadata": {},
     "output_type": "execute_result"
    }
   ],
   "source": [
    "Object.All[1].ActPosition((2,8))\n",
    "Object.All[1].path"
   ]
  },
  {
   "cell_type": "code",
   "execution_count": 135,
   "metadata": {
    "ExecuteTime": {
     "end_time": "2022-10-21T12:29:41.136806Z",
     "start_time": "2022-10-21T12:29:41.115805Z"
    }
   },
   "outputs": [
    {
     "data": {
      "text/plain": [
       "(2, 8)"
      ]
     },
     "execution_count": 135,
     "metadata": {},
     "output_type": "execute_result"
    }
   ],
   "source": [
    "Object.All[1].getFinalPosition()"
   ]
  },
  {
   "cell_type": "code",
   "execution_count": 143,
   "metadata": {
    "ExecuteTime": {
     "end_time": "2022-10-21T18:25:31.333561Z",
     "start_time": "2022-10-21T18:25:31.309411Z"
    }
   },
   "outputs": [
    {
     "name": "stdout",
     "output_type": "stream",
     "text": [
      "1  -  Persona\n",
      "2  -  Persona\n",
      "3  -  Persona\n",
      "4  -  Persona\n",
      "5  -  Persona\n",
      "6  -  Persona\n"
     ]
    }
   ],
   "source": [
    "for ID in Object.All.keys():\n",
    "    print(ID, \" - \", Object.All[ID].name)"
   ]
  },
  {
   "cell_type": "code",
   "execution_count": null,
   "metadata": {},
   "outputs": [],
   "source": []
  }
 ],
 "metadata": {
  "hide_input": false,
  "kernelspec": {
   "display_name": "Python 3",
   "language": "python",
   "name": "python3"
  },
  "language_info": {
   "codemirror_mode": {
    "name": "ipython",
    "version": 3
   },
   "file_extension": ".py",
   "mimetype": "text/x-python",
   "name": "python",
   "nbconvert_exporter": "python",
   "pygments_lexer": "ipython3",
   "version": "3.8.5"
  },
  "varInspector": {
   "cols": {
    "lenName": 16,
    "lenType": 16,
    "lenVar": 40
   },
   "kernels_config": {
    "python": {
     "delete_cmd_postfix": "",
     "delete_cmd_prefix": "del ",
     "library": "var_list.py",
     "varRefreshCmd": "print(var_dic_list())"
    },
    "r": {
     "delete_cmd_postfix": ") ",
     "delete_cmd_prefix": "rm(",
     "library": "var_list.r",
     "varRefreshCmd": "cat(var_dic_list()) "
    }
   },
   "types_to_exclude": [
    "module",
    "function",
    "builtin_function_or_method",
    "instance",
    "_Feature"
   ],
   "window_display": false
  }
 },
 "nbformat": 4,
 "nbformat_minor": 4
}
