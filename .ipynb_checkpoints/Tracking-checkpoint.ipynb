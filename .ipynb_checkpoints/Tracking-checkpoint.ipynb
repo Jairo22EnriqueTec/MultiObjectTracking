{
 "cells": [
  {
   "cell_type": "code",
   "execution_count": 1,
   "metadata": {
    "ExecuteTime": {
     "end_time": "2022-11-02T15:55:55.134548Z",
     "start_time": "2022-11-02T15:55:55.079576Z"
    }
   },
   "outputs": [],
   "source": [
    "import cv2\n",
    "import numpy as np\n",
    "from object_detection import ObjectDetection\n",
    "from objects import Object"
   ]
  },
  {
   "cell_type": "code",
   "execution_count": 288,
   "metadata": {
    "ExecuteTime": {
     "end_time": "2022-11-02T22:18:43.483984Z",
     "start_time": "2022-11-02T22:18:42.826363Z"
    }
   },
   "outputs": [
    {
     "name": "stderr",
     "output_type": "stream",
     "text": [
      "Using cache found in C:\\Users\\Jairo Enrique/.cache\\torch\\hub\\ultralytics_yolov5_master\n",
      "YOLOv5  2022-10-28 Python-3.8.5 torch-1.12.1+cpu CPU\n",
      "\n",
      "Fusing layers... \n",
      "YOLOv5s summary: 213 layers, 7225885 parameters, 0 gradients\n",
      "Adding AutoShape... \n"
     ]
    }
   ],
   "source": [
    "import torch\n",
    "\n",
    "# Model\n",
    "model = torch.hub.load('ultralytics/yolov5', 'yolov5s', pretrained=True)"
   ]
  },
  {
   "cell_type": "code",
   "execution_count": 3,
   "metadata": {
    "ExecuteTime": {
     "end_time": "2022-11-02T15:55:59.256528Z",
     "start_time": "2022-11-02T15:55:59.242148Z"
    }
   },
   "outputs": [],
   "source": [
    "def YOLOv5(frame):\n",
    "    try:\n",
    "        results = model(frame)\n",
    "        return results.pandas().xyxy[0]\n",
    "    except:\n",
    "        pass"
   ]
  },
  {
   "cell_type": "code",
   "execution_count": 4,
   "metadata": {
    "ExecuteTime": {
     "end_time": "2022-11-02T15:56:00.478955Z",
     "start_time": "2022-11-02T15:55:59.897747Z"
    }
   },
   "outputs": [
    {
     "name": "stdout",
     "output_type": "stream",
     "text": [
      "Loading Object Detection\n",
      "Running opencv dnn with YOLOv4\n"
     ]
    }
   ],
   "source": [
    "YOLOS = [ [\"dnn_model/yolo-fastest-1.1.weights\", \"dnn_model/yolo-fastest-1.1.cfg\", \"dnn_model/coco.names.txt\"],\n",
    "        [\"dnn_model/yolo-fastest-1.1-xl.weights\", \"dnn_model/yolo-fastest-1.1-xl.cfg\", \"dnn_model/coco.names.txt\"],\n",
    "         [\"dnn_model/yolov3.weights\", \"dnn_model/yolov3.cfg\", \"dnn_model/coco.names.txt\"],\n",
    "        [\"dnn_model/yolov4.weights\", \"dnn_model/yolov4.cfg\", \"dnn_model/classes.txt\"]]\n",
    "\n",
    "i = 3\n",
    "YOLO = ObjectDetection(weights_path = YOLOS[i][0], \n",
    "                       cfg_path = YOLOS[i][1],\n",
    "                      class_path = YOLOS[i][2])"
   ]
  },
  {
   "cell_type": "code",
   "execution_count": 289,
   "metadata": {
    "ExecuteTime": {
     "end_time": "2022-11-02T22:18:47.726052Z",
     "start_time": "2022-11-02T22:18:47.677917Z"
    }
   },
   "outputs": [],
   "source": [
    "def loadClassesNames():\n",
    "        with open('dnn_model/classes.txt') as f:\n",
    "            Objects = [line.replace('\\n','') for line in f.readlines()]\n",
    "        f.close()\n",
    "        return Objects\n",
    "    \n",
    "class Object():\n",
    "    All = {}\n",
    "    LastID = 0\n",
    "    Threshold = 500\n",
    "    MaxFramesWithOutNoMove = 200\n",
    "    TemporalStep = 1\n",
    "    dt = 1\n",
    "    WhiteList = [\"person\", \"car\", \"truck\"]\n",
    "    ClassesNames = loadClassesNames()\n",
    "    Salieron = 0\n",
    "    Entraron = 0\n",
    "    \n",
    "    @classmethod\n",
    "    def create(cls, name, PosIni, rectangle):\n",
    "        \"\"\"\n",
    "        if ID in cls.All.keys():\n",
    "            raise IndexError(f\"No puede existir dos ID's iguales ID: {ID}\")\n",
    "        \n",
    "        if len(list(cls.All.keys())) >1 and ID != np.max(list(cls.All.keys())) + 1:\n",
    "            txtErr = f\"Los ID deben de ser consecutivos ID: {ID}\"\n",
    "            txtErr += f\"\\nSiguiente ID: {np.max(list(cls.All.keys())) + 1}\"\n",
    "            raise IndexError(txtErr)\n",
    "        \"\"\"\n",
    "        object_ = Object(name, PosIni, rectangle)\n",
    "        cls.All[Object.LastID] = object_\n",
    "        return object_\n",
    "    \n",
    "    @classmethod\n",
    "    def NewFrame(cls, Coords, Classes, Rectangles):\n",
    "        \n",
    "        for coor, class_, rectangle in zip(Coords, Classes, Rectangles):\n",
    "            \n",
    "            min_dis = 100\n",
    "            min_dis_ID = None\n",
    "            for ID in Object.All.keys():\n",
    "                d = Object.All[ID].getDistance(coor)\n",
    "                if d < Object.Threshold and d < min_dis and Object.All[ID].Life == True:\n",
    "                    min_dis = d\n",
    "                    min_dis_ID = ID\n",
    "            # Si está más cerca de un objeto, se actualiza su posición\n",
    "            if min_dis_ID != None and Object.areEqual(Object.All[min_dis_ID].name, Object.ClassesNames[class_]):\n",
    "                Object.All[min_dis_ID].ActPosition(coor)\n",
    "                Object.All[min_dis_ID].Rectangle = rectangle\n",
    "                Object.All[min_dis_ID].LastTemporalStep = Object.TemporalStep\n",
    "            #Si no, es un objeto nuevo\n",
    "            else:\n",
    "                Object.create(class_, coor, rectangle)\n",
    "                Object.All[Object.LastID].LastTemporalStep = Object.TemporalStep\n",
    "        \n",
    "        \n",
    "    \n",
    "    @classmethod\n",
    "    def areEqual(cls, Name1, Name2):\n",
    "        D = {\"car\": \"car\", \"truck\": \"car\",  \"person\": \"person\"}\n",
    "        return D[Name1] == D[Name2]\n",
    "        \n",
    "    @classmethod\n",
    "    def ShowAll(cls, onlyALives = False):\n",
    "        for k in Object.All.keys():\n",
    "            if onlyALives:\n",
    "                if Object.All[k].Life == False:\n",
    "                    continue\n",
    "                    \n",
    "            print(\" ================================== \")\n",
    "            print(f\"ID: {Object.All[k].ID}\")\n",
    "            print(f\"Tipo: {Object.All[k].name}\")\n",
    "            print(f\"Path: {Object.All[k].path}\")\n",
    "            print(f\"Pos: {Object.All[k].getPosition()}\")\n",
    "            print(\" ================================== \")\n",
    "            print()\n",
    "            \n",
    "    @classmethod\n",
    "    def checkDeath(cls):\n",
    "        for ID in Object.All.keys():\n",
    "            Diff = Object.TemporalStep - Object.All[ID].LastTemporalStep\n",
    "            if Object.All[ID].Life and Diff > 4*Object.dt:\n",
    "                Object.All[ID].Life = False\n",
    "                Object.All[ID].checkMove()\n",
    "                #print(f\"Murió ID = {ID}\")\n",
    "                \n",
    "    @classmethod\n",
    "    def PutID(cls, frame):\n",
    "        onlyALives = True\n",
    "        for k in Object.All.keys():\n",
    "            if onlyALives and Object.All[k].Life == False:\n",
    "                continue\n",
    "            Diff = Object.TemporalStep - Object.All[k].LastTemporalStep\n",
    "            Object.All[k].stimatePosition()\n",
    "            if Diff > 2*Object.dt:\n",
    "                continue\n",
    "            \n",
    "            x, y = Object.All[k].getPosition()\n",
    "            #print(x,y)\n",
    "            cv2.putText(frame, str(Object.All[k].ID), (x ,y-7), 0,1, (0,0,255), 2)\n",
    "            xmin, ymin, xmax, ymax = Object.All[k].Rectangle\n",
    "            cv2.rectangle(roi, (round(xmin), round(ymin)), (round(xmax), round(ymax)), (255,0,0), 2)\n",
    "            cv2.circle(roi, (x,y), 5, (0,0,255), -1 )\n",
    "            \n",
    "            \n",
    "        \n",
    "    @classmethod\n",
    "    def reset(cls):\n",
    "        cls.All = {}\n",
    "        cls.LastID = 0\n",
    "        cls.TemporalStep = 1\n",
    "        Object.Salieron = 0\n",
    "        Object.Entraron = 0\n",
    "        \n",
    "    @classmethod\n",
    "    def step(cls, roi):\n",
    "        Object.TemporalStep += 1\n",
    "        Object.checkDeath()\n",
    "        Object.PutID(roi)\n",
    "        #TODO\n",
    "    \n",
    "    def __init__(self, name, PosIni, Rectangle):\n",
    "        self.name = Object.ClassesNames[name]\n",
    "        self.PosIni = PosIni\n",
    "        self.Life = True\n",
    "        self.LastTemporalStep = Object.TemporalStep\n",
    "        self.ID = Object.LastID\n",
    "        self.path = [PosIni]\n",
    "        self.pathTemporal = [Object.TemporalStep]\n",
    "        self.Rectangle = Rectangle\n",
    "        self.StimatedPath = [PosIni]\n",
    "        self.StimatedpathTemporal = [Object.TemporalStep]\n",
    "        \n",
    "        Object.LastID += 1\n",
    "        \n",
    "    def ActPosition(self, ActPos):\n",
    "        self.path.append(ActPos)\n",
    "        self.pathTemporal.append(Object.TemporalStep)\n",
    "        \n",
    "        self.StimatedpathTemporal = self.pathTemporal.copy()\n",
    "        self.StimatedPath = self.path.copy() \n",
    "        \n",
    "    def stimatePosition(self):\n",
    "        #just one at time\n",
    "        temp = Object.TemporalStep - self.LastTemporalStep\n",
    "        dt = Object.dt# if temp <= Object.dt else  temp*2\n",
    "        \n",
    "        #print()\n",
    "        #print(f\"{self.ID} - {self.name} \")\n",
    "        #print(f\"Actual Position: {self.getPosition()}\")\n",
    "        NP = np.array(self.StimatedPath[-3:])\n",
    "        \n",
    "        NPT = self.StimatedpathTemporal[-3:]\n",
    "        \n",
    "        NP.T[0] # en x\n",
    "        NP.T[1] # en y\n",
    "        AceY = 0\n",
    "        AceX = 0\n",
    "        \n",
    "        VelX = 0\n",
    "        VelY = 0\n",
    "        \n",
    "        for k in range(NP.shape[0]-2):\n",
    "            VelX1 = (NP.T[0][k + 1] - NP.T[0][k]) / max((NPT[k+1] - NPT[k]), 1)\n",
    "            VelY1 = (NP.T[1][k + 1] - NP.T[1][k]) / max((NPT[k+1] - NPT[k]), 1)\n",
    "            \n",
    "            VelX2 = (NP.T[0][k + 2] - NP.T[0][k + 1]) / max((NPT[k+2] - NPT[k+1]), 1)\n",
    "            VelY2 = (NP.T[1][k + 2] - NP.T[1][k + 1]) / max((NPT[k+2] - NPT[k+1]),1)\n",
    "            \n",
    "            AceX += (VelX2 - VelX1) / max((NPT[k+2] - NPT[k]), 1)\n",
    "            AceY += (VelY2 - VelY1) / max((NPT[k+2] - NPT[k]), 1)\n",
    "            \n",
    "            VelX += VelX1\n",
    "            VelY += VelY1\n",
    "\n",
    "        if NP.shape[0]-2 > 0:\n",
    "            \n",
    "            VelX /= (NP.shape[0]-2)\n",
    "            VelY /= (NP.shape[0]-2)\n",
    "            AceX /= (NP.shape[0]-2)\n",
    "            AceX /= (NP.shape[0]-2)\n",
    "            \n",
    "            deltaX = VelX1  + 0.5 * AceX\n",
    "            deltaY = VelY1  + 0.5 * AceY\n",
    "            \n",
    "            \"\"\"\n",
    "            print(f\"Real path: {self.path}\")\n",
    "            print(f\"Estimated path: {self.StimatedPath}\")\n",
    "            print(f\"Cambio en X: {deltaX} Cambio en Y: {deltaY}\") #Aquí\n",
    "            print(f\"Velx: {VelX} Vely: {VelY}\") #Aquí\n",
    "            print(f\"Ac: {AceX} Ac: {AceY}\") #Aquí\n",
    "\n",
    "            print(f\"aqui {self.getPosition()[0]} , {self.getPosition()[1]}\")\n",
    "            print(f\"aqui {self.getPosition()[0] + deltaX} , {self.getPosition()[1] + deltaY}\")\n",
    "            \"\"\"\n",
    "            \n",
    "            Nx = int(self.StimatedPath[-1][0] + deltaX)\n",
    "            Nx = Nx if Nx > 0 else 0\n",
    "            \n",
    "            Ny = int(self.StimatedPath[-1][1] + deltaY)\n",
    "            Ny = Ny if Ny > 0 else 0\n",
    "            \"\"\"\n",
    "            print(f\"New {Nx}, {Ny}\")\n",
    "            \n",
    "            print(f\"Rectangle: {self.Rectangle}\")\n",
    "            \"\"\"\n",
    "            self.Rectangle = [self.Rectangle[0] + deltaX, self.Rectangle[1] + deltaY, \n",
    "                              self.Rectangle[2] + deltaX, self.Rectangle[3] + deltaY,]\n",
    "            #print(f\"New Rectangle: {self.Rectangle}\")\n",
    "            self.StimatedPath.append([Nx, Ny])\n",
    "            self.StimatedpathTemporal.append( self.StimatedpathTemporal[-1] + 1)\n",
    "        \n",
    "    def getPosition(self):\n",
    "        return self.StimatedPath[-1]\n",
    "        #return self.path[-1]\n",
    "    \n",
    "    def checkMove(self):\n",
    "        \"\"\"\n",
    "        Si un objeto permanece inmovil por más de n frames,\n",
    "        se considera como muerto\n",
    "        \"\"\"\n",
    "        if self.name != 'car' or np.all(np.std(np.array(self.path), axis=0) < 3):\n",
    "            return\n",
    "        Move = self.path[-1][1] - self.path[0][1]\n",
    "        \n",
    "        if Move < 0: #entró\n",
    "            Object.Salieron += 1\n",
    "        else:\n",
    "            Object.Entraron += 1\n",
    "        print(\"-----------------------\")\n",
    "        print(f\"Move in {self.ID}\")\n",
    "        print(f\"Han salido {Object.Salieron}\")\n",
    "        print(f\"Han entrado {Object.Entraron}\")\n",
    "        print(\"-----------------------\")\n",
    "        print()\n",
    "        #if len(self.path) > 10:\n",
    "    \n",
    "    def getDistance(self, Pos):\n",
    "        return np.sqrt((Pos[0] - self.getPosition()[0])**2 + (Pos[1] - self.getPosition()[1])**2)\n",
    "\n"
   ]
  },
  {
   "cell_type": "code",
   "execution_count": 295,
   "metadata": {
    "ExecuteTime": {
     "end_time": "2022-11-02T22:22:26.045063Z",
     "start_time": "2022-11-02T22:21:20.090864Z"
    }
   },
   "outputs": [
    {
     "name": "stdout",
     "output_type": "stream",
     "text": [
      "-----------------------\n",
      "Move in 0\n",
      "Han salido 1\n",
      "Han entrado 0\n",
      "-----------------------\n",
      "\n",
      "-----------------------\n",
      "Move in 1\n",
      "Han salido 2\n",
      "Han entrado 0\n",
      "-----------------------\n",
      "\n"
     ]
    }
   ],
   "source": [
    "cap = cv2.VideoCapture('videos/short.mp4')\n",
    "nFrame = -1\n",
    "Object.reset()\n",
    "Object.dt = 4\n",
    "\n",
    "while True:\n",
    "    nFrame += 1\n",
    "    \n",
    "    ret, frame = cap.read()\n",
    "    if not ret:\n",
    "        break\n",
    "    \n",
    "    if nFrame < 100:\n",
    "        continue\n",
    "    #print(f\"=========== {nFrame} ===========\")\n",
    "    key = cv2.waitKey(1)\n",
    "    roi = frame[650:, :450]\n",
    "    \n",
    "    #\"\"\"\n",
    "    \n",
    "    \"\"\"\n",
    "    (class_ids, scores, boxes) = YOLO.detect(roi)\n",
    "\n",
    "    for box, class_id in zip(boxes, class_ids):\n",
    "        if Object.ClassesNames[class_id] not in Object.WhiteList:\n",
    "            continue\n",
    "        (x, y, w, h) = box\n",
    "        cv2.rectangle(roi, (x,y), (x + w, y + h), (255,0,0),2)\n",
    "        cx = int((x + x + w)/2)\n",
    "        cy = int((y + y + h)/2)\n",
    "        cv2.circle(roi, (cx,cy), 5, (0,0,255), -1 )\n",
    "\n",
    "\n",
    "        Object.NewFrame([[cx,cy]], [class_id])\n",
    "    \"\"\"\n",
    "    if nFrame % Object.dt == 0:\n",
    "        Results = YOLOv5(roi)\n",
    "        for r in range(Results.shape[0]):\n",
    "            #print(Results.iloc[i,:])\n",
    "            xmin, ymin, xmax, ymax, _, class_id, name = [Results.iloc[r,i] for i in range(7)]\n",
    "            if Object.ClassesNames[int(class_id)] not in Object.WhiteList:\n",
    "                continue\n",
    "            #cv2.rectangle(roi, (round(xmin), round(ymin)), (round(xmax), round(ymax)), (255,0,0), 2)\n",
    "            cx = int((xmax + xmin)/2)\n",
    "            cy = int((ymax + ymin)/2)\n",
    "            #cv2.circle(roi, (cx,cy), 5, (0,0,255), -1 )\n",
    "\n",
    "            Object.NewFrame([[cx,cy]], [class_id], [[xmin, ymin, xmax, ymax]])\n",
    "    #if nFrame% 5 == 0:\n",
    "    #    Object.ShowAll(onlyALives = True)\n",
    "    #\"\"\"\n",
    "    \n",
    "    Object.step(roi)\n",
    "    \n",
    "    cv2.imshow(\"Frame\", frame)\n",
    "    cv2.imshow(\"Roi\", roi)\n",
    "    if key == 27:\n",
    "        break  \n",
    "        \n",
    "cap.release()\n",
    "cv2.destroyAllWindows()"
   ]
  },
  {
   "cell_type": "code",
   "execution_count": 231,
   "metadata": {
    "ExecuteTime": {
     "end_time": "2022-11-02T21:59:47.901293Z",
     "start_time": "2022-11-02T21:59:47.885046Z"
    }
   },
   "outputs": [
    {
     "data": {
      "text/plain": [
       "False"
      ]
     },
     "execution_count": 231,
     "metadata": {},
     "output_type": "execute_result"
    }
   ],
   "source": [
    "np.all(np.std(np.array(Object.All[10].path), axis=0) > 3)"
   ]
  },
  {
   "cell_type": "code",
   "execution_count": 267,
   "metadata": {
    "ExecuteTime": {
     "end_time": "2022-11-02T22:06:16.369739Z",
     "start_time": "2022-11-02T22:06:16.353681Z"
    }
   },
   "outputs": [
    {
     "data": {
      "text/plain": [
       "[[481, 53]]"
      ]
     },
     "execution_count": 267,
     "metadata": {},
     "output_type": "execute_result"
    }
   ],
   "source": [
    "Object.All[3].path"
   ]
  },
  {
   "cell_type": "code",
   "execution_count": null,
   "metadata": {},
   "outputs": [],
   "source": []
  },
  {
   "cell_type": "code",
   "execution_count": 56,
   "metadata": {
    "ExecuteTime": {
     "end_time": "2022-10-28T11:30:36.056548Z",
     "start_time": "2022-10-28T11:30:36.029331Z"
    }
   },
   "outputs": [
    {
     "data": {
      "text/plain": [
       "2"
      ]
     },
     "execution_count": 56,
     "metadata": {},
     "output_type": "execute_result"
    }
   ],
   "source": [
    "# Para una nueva versión, eliminarlos en lugar de matarlos en código\n",
    "# del Object.All[ID]\n",
    "# Pero antes revisar a donde se han ido\n",
    "# detección cada n frames\n",
    "xmin, ymin, xmax, ymax, _, class_id, name = [Results.iloc[0,i] for i in range(7)]\n",
    "class_id"
   ]
  },
  {
   "cell_type": "code",
   "execution_count": 59,
   "metadata": {
    "ExecuteTime": {
     "end_time": "2022-10-28T11:31:25.771436Z",
     "start_time": "2022-10-28T11:31:25.747939Z"
    }
   },
   "outputs": [
    {
     "name": "stdout",
     "output_type": "stream",
     "text": [
      "150.32098388671875 552.5122680664062 268.04498291015625 685.5360717773438 2 car\n"
     ]
    }
   ],
   "source": [
    "print(xmin, ymin, xmax, ymax, class_id, name)"
   ]
  },
  {
   "cell_type": "code",
   "execution_count": 61,
   "metadata": {
    "ExecuteTime": {
     "end_time": "2022-10-28T11:32:11.265382Z",
     "start_time": "2022-10-28T11:32:11.243504Z"
    }
   },
   "outputs": [
    {
     "data": {
      "text/plain": [
       "(150.32098388671875, 552.5122680664062)"
      ]
     },
     "execution_count": 61,
     "metadata": {},
     "output_type": "execute_result"
    }
   ],
   "source": [
    "(xmin, ymin)"
   ]
  },
  {
   "cell_type": "code",
   "execution_count": 62,
   "metadata": {
    "ExecuteTime": {
     "end_time": "2022-10-28T11:32:18.148731Z",
     "start_time": "2022-10-28T11:32:18.131881Z"
    }
   },
   "outputs": [
    {
     "data": {
      "text/plain": [
       "(268.04498291015625, 685.5360717773438)"
      ]
     },
     "execution_count": 62,
     "metadata": {},
     "output_type": "execute_result"
    }
   ],
   "source": [
    "#Extrapolar los resultados para simular que se sigue el objeto al dibujar la cajita cada posición"
   ]
  }
 ],
 "metadata": {
  "hide_input": false,
  "kernelspec": {
   "display_name": "Python 3 (ipykernel)",
   "language": "python",
   "name": "python3"
  },
  "language_info": {
   "codemirror_mode": {
    "name": "ipython",
    "version": 3
   },
   "file_extension": ".py",
   "mimetype": "text/x-python",
   "name": "python",
   "nbconvert_exporter": "python",
   "pygments_lexer": "ipython3",
   "version": "3.8.5"
  },
  "varInspector": {
   "cols": {
    "lenName": 16,
    "lenType": 16,
    "lenVar": 40
   },
   "kernels_config": {
    "python": {
     "delete_cmd_postfix": "",
     "delete_cmd_prefix": "del ",
     "library": "var_list.py",
     "varRefreshCmd": "print(var_dic_list())"
    },
    "r": {
     "delete_cmd_postfix": ") ",
     "delete_cmd_prefix": "rm(",
     "library": "var_list.r",
     "varRefreshCmd": "cat(var_dic_list()) "
    }
   },
   "types_to_exclude": [
    "module",
    "function",
    "builtin_function_or_method",
    "instance",
    "_Feature"
   ],
   "window_display": false
  }
 },
 "nbformat": 4,
 "nbformat_minor": 4
}
