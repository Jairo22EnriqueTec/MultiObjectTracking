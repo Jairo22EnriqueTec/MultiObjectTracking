{
 "cells": [
  {
   "cell_type": "code",
   "execution_count": 1,
   "metadata": {
    "ExecuteTime": {
     "end_time": "2022-10-25T12:30:06.226069Z",
     "start_time": "2022-10-25T12:30:06.115947Z"
    }
   },
   "outputs": [],
   "source": [
    "import cv2\n",
    "import numpy as np\n",
    "from object_detection import ObjectDetection"
   ]
  },
  {
   "cell_type": "code",
   "execution_count": 17,
   "metadata": {
    "ExecuteTime": {
     "end_time": "2022-10-25T12:39:58.007368Z",
     "start_time": "2022-10-25T12:39:57.324570Z"
    }
   },
   "outputs": [
    {
     "name": "stdout",
     "output_type": "stream",
     "text": [
      "Loading Object Detection\n",
      "Running opencv dnn with YOLOv4\n"
     ]
    }
   ],
   "source": [
    "YOLOS = [ [\"dnn_model/yolo-fastest-1.1.weights\", \"dnn_model/yolo-fastest-1.1.cfg\", \"dnn_model/coco.names.txt\"],\n",
    "        \n",
    "        [\"dnn_model/yolo-fastest-1.1-xl.weights\", \"dnn_model/yolo-fastest-1.1-xl.cfg\", \"dnn_model/coco.names.txt\"],\n",
    "        [\"dnn_model/yolov4.weights\", \"dnn_model/yolov4.cfg\", \"dnn_model/classes.txt\"]]\n",
    "\n",
    "i = 2\n",
    "YOLO = ObjectDetection(weights_path = YOLOS[i][0], \n",
    "                       cfg_path = YOLOS[i][1],\n",
    "                      class_path = YOLOS[i][2])"
   ]
  },
  {
   "cell_type": "code",
   "execution_count": 18,
   "metadata": {
    "ExecuteTime": {
     "end_time": "2022-10-25T12:39:59.662291Z",
     "start_time": "2022-10-25T12:39:59.645011Z"
    }
   },
   "outputs": [],
   "source": [
    "def loadClassesNames():\n",
    "        with open('dnn_model/classes.txt') as f:\n",
    "            Objects = [line.replace('\\n','') for line in f.readlines()]\n",
    "        f.close()\n",
    "        return Objects"
   ]
  },
  {
   "cell_type": "code",
   "execution_count": 19,
   "metadata": {
    "ExecuteTime": {
     "end_time": "2022-10-25T12:39:59.851763Z",
     "start_time": "2022-10-25T12:39:59.831830Z"
    }
   },
   "outputs": [],
   "source": [
    "class Object():\n",
    "    All = {}\n",
    "    LastID = 0\n",
    "    Threshold = 50\n",
    "    MaxFramesWithOutNoMove = 20\n",
    "    TemporalStep = 1\n",
    "    ClassesNames = loadClassesNames()\n",
    "    \n",
    "    @classmethod\n",
    "    def create(cls, name, PosIni):\n",
    "        \"\"\"\n",
    "        if ID in cls.All.keys():\n",
    "            raise IndexError(f\"No puede existir dos ID's iguales ID: {ID}\")\n",
    "        \n",
    "        if len(list(cls.All.keys())) >1 and ID != np.max(list(cls.All.keys())) + 1:\n",
    "            txtErr = f\"Los ID deben de ser consecutivos ID: {ID}\"\n",
    "            txtErr += f\"\\nSiguiente ID: {np.max(list(cls.All.keys())) + 1}\"\n",
    "            raise IndexError(txtErr)\n",
    "        \"\"\"\n",
    "        object_ = Object(name, PosIni)\n",
    "        cls.All[Object.LastID] = object_\n",
    "        return object_\n",
    "    \n",
    "    @classmethod\n",
    "    def NewFrame(cls, Coords, Classes):\n",
    "        \n",
    "        for coor, class_ in zip(Coords, Classes):\n",
    "            min_dis = 100\n",
    "            min_dis_ID = None\n",
    "            for ID in Object.All.keys():\n",
    "                d = Object.All[ID].getDistance(coor)\n",
    "                if d < Object.Threshold and d < min_dis and Object.All[ID].Life == True:\n",
    "                    min_dis = d\n",
    "                    min_dis_ID = ID\n",
    "            # Si está más cerca de un objeto, se actualiza su posición\n",
    "            if min_dis_ID != None and Object.All[min_dis_ID].name == Object.ClassesNames[class_]:\n",
    "                Object.All[min_dis_ID].ActPosition(coor)\n",
    "                Object.All[min_dis_ID].LastTemporalStep = Object.TemporalStep\n",
    "            #Si no, es un objeto nuevo\n",
    "            else:\n",
    "                Object.create(class_, coor)\n",
    "                Object.All[Object.LastID].LastTemporalStep = Object.TemporalStep\n",
    "        \n",
    "        Object.TemporalStep += 1\n",
    "        Object.checkDeath()\n",
    "        \n",
    "    @classmethod\n",
    "    def ShowAll(cls, onlyALives = False):\n",
    "        for k in Object.All.keys():\n",
    "            if onlyALives:\n",
    "                if Object.All[k].Life == False:\n",
    "                    continue\n",
    "                    \n",
    "            print(\" ================================== \")\n",
    "            print(f\"ID: {Object.All[k].ID}\")\n",
    "            print(f\"Tipo: {Object.All[k].name}\")\n",
    "            print(f\"Path: {Object.All[k].path}\")\n",
    "            print(f\"Pos: {Object.All[k].getPosition()}\")\n",
    "            print(\" ================================== \")\n",
    "            print()\n",
    "            \n",
    "    @classmethod\n",
    "    def checkDeath(cls):\n",
    "        \n",
    "        for ID in Object.All.keys():\n",
    "            Diff = Object.TemporalStep - Object.All[ID].LastTemporalStep\n",
    "            if Diff > Object.MaxFramesWithOutNoMove:\n",
    "                Object.All[ID].Life = False\n",
    "                print(f\"Murió ID = {ID}\")\n",
    "                \n",
    "    @classmethod\n",
    "    def PutID(cls, frame):\n",
    "        onlyALives = True\n",
    "        for k in Object.All.keys():\n",
    "            if onlyALives:\n",
    "                if Object.All[k].Life == False:\n",
    "                    continue\n",
    "            \n",
    "            x, y = Object.All[k].getPosition()\n",
    "            cv2.putText(frame, str(Object.All[k].ID), (x ,y-7), 0,1, (0,0,255), 2)\n",
    "        \n",
    "    \n",
    "    def __init__(self, name, PosIni):\n",
    "        self.name = Object.ClassesNames[name]\n",
    "        self.PosIni = PosIni\n",
    "        self.Life = True\n",
    "        self.LastTemporalStep = 1\n",
    "        self.ID = Object.LastID\n",
    "        self.path = [PosIni]\n",
    "        Object.LastID += 1\n",
    "        \n",
    "    def ActPosition(self, ActPos):\n",
    "        self.path.append(ActPos)\n",
    "    \n",
    "    def getPosition(self):\n",
    "        return self.path[-1]\n",
    "    \n",
    "    def checkMove(self):\n",
    "        \"\"\"\n",
    "        Si un objeto permanece inmovil por más de n frames,\n",
    "        se considera como muerto\n",
    "        \"\"\"\n",
    "        pass\n",
    "        #if len(self.path) > 10:\n",
    "            \n",
    "    \n",
    "    def getDistance(self, Pos):\n",
    "        return np.sqrt((Pos[0] - self.getPosition()[0])**2 +\\\n",
    "                       (Pos[1] - self.getPosition()[1])**2)"
   ]
  },
  {
   "cell_type": "code",
   "execution_count": 20,
   "metadata": {
    "ExecuteTime": {
     "end_time": "2022-10-25T12:40:07.695647Z",
     "start_time": "2022-10-25T12:40:00.178040Z"
    }
   },
   "outputs": [
    {
     "name": "stdout",
     "output_type": "stream",
     "text": [
      " ================================== \n",
      "ID: 0\n",
      "Tipo: car\n",
      "Path: [[477, 40]]\n",
      "Pos: [477, 40]\n",
      " ================================== \n",
      "\n",
      " ================================== \n",
      "ID: 0\n",
      "Tipo: car\n",
      "Path: [[477, 40], [477, 40]]\n",
      "Pos: [477, 40]\n",
      " ================================== \n",
      "\n",
      " ================================== \n",
      "ID: 0\n",
      "Tipo: car\n",
      "Path: [[477, 40], [477, 40], [477, 40]]\n",
      "Pos: [477, 40]\n",
      " ================================== \n",
      "\n",
      " ================================== \n",
      "ID: 0\n",
      "Tipo: car\n",
      "Path: [[477, 40], [477, 40], [477, 40], [477, 40]]\n",
      "Pos: [477, 40]\n",
      " ================================== \n",
      "\n",
      " ================================== \n",
      "ID: 0\n",
      "Tipo: car\n",
      "Path: [[477, 40], [477, 40], [477, 40], [477, 40], [477, 40]]\n",
      "Pos: [477, 40]\n",
      " ================================== \n",
      "\n",
      " ================================== \n",
      "ID: 0\n",
      "Tipo: car\n",
      "Path: [[477, 40], [477, 40], [477, 40], [477, 40], [477, 40], [477, 40]]\n",
      "Pos: [477, 40]\n",
      " ================================== \n",
      "\n",
      " ================================== \n",
      "ID: 0\n",
      "Tipo: car\n",
      "Path: [[477, 40], [477, 40], [477, 40], [477, 40], [477, 40], [477, 40], [477, 40]]\n",
      "Pos: [477, 40]\n",
      " ================================== \n",
      "\n"
     ]
    }
   ],
   "source": [
    "cap = cv2.VideoCapture('videos/short.mp4')\n",
    "nFrame = 0\n",
    "while True:\n",
    "    ret, frame = cap.read()\n",
    "    if not ret:\n",
    "        break\n",
    "    \n",
    "    key = cv2.waitKey(1)\n",
    "    \n",
    "    \n",
    "    roi = frame[500:, :]\n",
    "    #\"\"\"\n",
    "    Object.PutID(roi)\n",
    "    if nFrame% 1 == 0:\n",
    "        (class_ids, scores, boxes) = YOLO.detect(roi)\n",
    "        for box, class_id in zip(boxes, class_ids):\n",
    "            (x, y, w, h) = box\n",
    "            cv2.rectangle(roi, (x,y), (x + w, y + h), (255,0,0),2)\n",
    "            cx = int((x + x + w)/2)\n",
    "            cy = int((y + y + h)/2)\n",
    "            cv2.circle(roi, (cx,cy), 5, (0,0,255), -1 )\n",
    "\n",
    "\n",
    "            Object.NewFrame([[cx,cy]], [class_id])\n",
    "\n",
    "            \n",
    "\n",
    "            Object.ShowAll(onlyALives = True)\n",
    "    #\"\"\"\n",
    "    \n",
    "    cv2.imshow(\"Frame\", frame)\n",
    "    cv2.imshow(\"Roi\", roi)\n",
    "    if key == 27:\n",
    "        break  \n",
    "    \n",
    "    nFrame += 1\n",
    "        \n",
    "cap.release()\n",
    "cv2.destroyAllWindows()"
   ]
  },
  {
   "cell_type": "code",
   "execution_count": 170,
   "metadata": {
    "ExecuteTime": {
     "end_time": "2022-10-25T11:34:58.570431Z",
     "start_time": "2022-10-25T11:34:58.549515Z"
    }
   },
   "outputs": [],
   "source": [
    "Object.NewFrame([[20.4,10.4]], [3])"
   ]
  },
  {
   "cell_type": "code",
   "execution_count": 171,
   "metadata": {
    "ExecuteTime": {
     "end_time": "2022-10-25T11:34:58.775364Z",
     "start_time": "2022-10-25T11:34:58.763404Z"
    }
   },
   "outputs": [
    {
     "name": "stdout",
     "output_type": "stream",
     "text": [
      " ================================== \n",
      "ID: 0\n",
      "Tipo: motorbike\n",
      "Path: [[20.1, 10.1], [20.1, 10.1], [20.1, 10.1], [20.2, 10.2], [20.3, 10.3], [20.4, 10.4]]\n",
      "Pos: [20.4, 10.4]\n",
      " ================================== \n",
      "\n"
     ]
    }
   ],
   "source": [
    "Object.ShowAll(onlyALives=True)"
   ]
  },
  {
   "cell_type": "code",
   "execution_count": 24,
   "metadata": {
    "ExecuteTime": {
     "end_time": "2022-10-25T10:50:57.058222Z",
     "start_time": "2022-10-25T10:50:57.050253Z"
    }
   },
   "outputs": [],
   "source": [
    "f.close()"
   ]
  },
  {
   "cell_type": "code",
   "execution_count": 67,
   "metadata": {
    "ExecuteTime": {
     "end_time": "2022-10-25T11:16:26.491635Z",
     "start_time": "2022-10-25T11:16:26.477729Z"
    }
   },
   "outputs": [
    {
     "data": {
      "text/plain": [
       "array([[478, 540],\n",
       "       [478, 539],\n",
       "       [477, 540],\n",
       "       [477, 539],\n",
       "       [477, 539]])"
      ]
     },
     "execution_count": 67,
     "metadata": {},
     "output_type": "execute_result"
    }
   ],
   "source": [
    "np.array(Object.All[1].path[-5:])"
   ]
  },
  {
   "cell_type": "code",
   "execution_count": 180,
   "metadata": {
    "ExecuteTime": {
     "end_time": "2022-10-25T11:44:12.948544Z",
     "start_time": "2022-10-25T11:44:12.930604Z"
    }
   },
   "outputs": [],
   "source": [
    "x,y = Object.All[1].getPosition()"
   ]
  },
  {
   "cell_type": "code",
   "execution_count": 181,
   "metadata": {
    "ExecuteTime": {
     "end_time": "2022-10-25T11:44:15.015857Z",
     "start_time": "2022-10-25T11:44:14.998921Z"
    }
   },
   "outputs": [
    {
     "data": {
      "text/plain": [
       "(477, 539)"
      ]
     },
     "execution_count": 181,
     "metadata": {},
     "output_type": "execute_result"
    }
   ],
   "source": [
    "   x,y"
   ]
  },
  {
   "cell_type": "code",
   "execution_count": null,
   "metadata": {},
   "outputs": [],
   "source": [
    "# Para una nueva versión, eliminarlos en lugar de matarlos en código\n",
    "# del Object.All[ID]\n",
    "# Pero antes revisar a donde se han ido\n",
    "# detección cada n frames"
   ]
  }
 ],
 "metadata": {
  "hide_input": false,
  "kernelspec": {
   "display_name": "Python 3 (ipykernel)",
   "language": "python",
   "name": "python3"
  },
  "language_info": {
   "codemirror_mode": {
    "name": "ipython",
    "version": 3
   },
   "file_extension": ".py",
   "mimetype": "text/x-python",
   "name": "python",
   "nbconvert_exporter": "python",
   "pygments_lexer": "ipython3",
   "version": "3.8.5"
  },
  "varInspector": {
   "cols": {
    "lenName": 16,
    "lenType": 16,
    "lenVar": 40
   },
   "kernels_config": {
    "python": {
     "delete_cmd_postfix": "",
     "delete_cmd_prefix": "del ",
     "library": "var_list.py",
     "varRefreshCmd": "print(var_dic_list())"
    },
    "r": {
     "delete_cmd_postfix": ") ",
     "delete_cmd_prefix": "rm(",
     "library": "var_list.r",
     "varRefreshCmd": "cat(var_dic_list()) "
    }
   },
   "types_to_exclude": [
    "module",
    "function",
    "builtin_function_or_method",
    "instance",
    "_Feature"
   ],
   "window_display": false
  }
 },
 "nbformat": 4,
 "nbformat_minor": 4
}
